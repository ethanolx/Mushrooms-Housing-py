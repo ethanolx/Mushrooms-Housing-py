{
 "metadata": {
  "language_info": {
   "codemirror_mode": {
    "name": "ipython",
    "version": 3
   },
   "file_extension": ".py",
   "mimetype": "text/x-python",
   "name": "python",
   "nbconvert_exporter": "python",
   "pygments_lexer": "ipython3",
   "version": "3.8.5"
  },
  "orig_nbformat": 2,
  "kernelspec": {
   "name": "python385jvsc74a57bd0571bacba9a29d47d526870ce679dff83b29c24567c7b1ef6e20c2daefc5a9ce9",
   "display_name": "Python 3.8.5 32-bit"
  }
 },
 "nbformat": 4,
 "nbformat_minor": 2,
 "cells": [
  {
   "cell_type": "code",
   "execution_count": null,
   "metadata": {},
   "outputs": [],
   "source": [
    "# Import Required 3rd-Party Libraries\n",
    "import numpy as np\n",
    "import pandas as pd\n",
    "import matplotlib as plt\n",
    "import seaborn as sns\n",
    "\n",
    "from sklearn.model_selection import train_test_split, GridSearchCV\n",
    "from sklearn.neighbors import KNeighborsClassifier\n",
    "from sklearn.tree import DecisionTreeClassifier\n",
    "from sklearn.svm import SVC"
   ]
  },
  {
   "cell_type": "code",
   "execution_count": null,
   "metadata": {},
   "outputs": [],
   "source": [
    "data = pd.read_csv(\n",
    "    filepath_or_buffer='./data/workplace-injuries-by-industry-and-incident-types.csv',\n",
    "    header=0\n",
    ")"
   ]
  },
  {
   "cell_type": "code",
   "execution_count": null,
   "metadata": {},
   "outputs": [],
   "source": [
    "data.head()"
   ]
  },
  {
   "cell_type": "code",
   "execution_count": null,
   "metadata": {},
   "outputs": [],
   "source": [
    "print(data.shape[0])\n",
    "for f in data.columns.values:\n",
    "    print(f, pd.unique(data[f].values).size)"
   ]
  },
  {
   "cell_type": "code",
   "execution_count": null,
   "metadata": {},
   "outputs": [],
   "source": [
    "X_train, X_test, y_train, y_test = train_test_split(pd.concat(objs=(data[['year']], pd.get_dummies(data[['incident_agent']], drop_first=True, sparse=True)), axis=1), data['degree_of_injury'], test_size=0.25)"
   ]
  },
  {
   "cell_type": "code",
   "execution_count": null,
   "metadata": {},
   "outputs": [],
   "source": [
    "from sklearn.neighbors import KNeighborsClassifier"
   ]
  },
  {
   "cell_type": "code",
   "execution_count": null,
   "metadata": {},
   "outputs": [],
   "source": [
    "knn = KNeighborsClassifier(n_neighbors=10)"
   ]
  },
  {
   "cell_type": "code",
   "execution_count": null,
   "metadata": {},
   "outputs": [],
   "source": [
    "knn.fit(X_train, y_train)"
   ]
  },
  {
   "cell_type": "code",
   "execution_count": null,
   "metadata": {},
   "outputs": [],
   "source": [
    "knn.score(X_test, y_test)"
   ]
  },
  {
   "cell_type": "code",
   "execution_count": null,
   "metadata": {},
   "outputs": [],
   "source": [
    "y_test.iloc[0]"
   ]
  },
  {
   "cell_type": "code",
   "execution_count": null,
   "metadata": {},
   "outputs": [],
   "source": [
    "knn.predict(X_test.iloc[0:1,:])"
   ]
  },
  {
   "cell_type": "code",
   "execution_count": null,
   "metadata": {},
   "outputs": [],
   "source": [
    "import matplotlib.pyplot as plt\n",
    "import seaborn as sns"
   ]
  },
  {
   "cell_type": "code",
   "execution_count": null,
   "metadata": {},
   "outputs": [],
   "source": [
    "tot = pd.read_csv('./data/workplace-injuries.csv', header=0)\n",
    "tot.rename({'no._of_workplace_injuries': 'Number of Workplace Injuries'}, axis=1, inplace=True)"
   ]
  },
  {
   "cell_type": "code",
   "execution_count": null,
   "metadata": {},
   "outputs": [],
   "source": [
    "me = tot['Number of Workplace Injuries']"
   ]
  },
  {
   "cell_type": "code",
   "execution_count": null,
   "metadata": {},
   "outputs": [],
   "source": [
    "with sns.axes_style(style='darkgrid'):\n",
    "    with sns.color_palette(palette='turbo'):\n",
    "        toa = tot\n",
    "        toa['_dummy'] = [1] * toa.shape[0]\n",
    "        toa['Year'] = toa['year']\n",
    "        ax = sns.barplot(data=toa, x='Year', y='Number of Workplace Injuries', color='tab:green')\n",
    "        sns.lineplot(x=list(ax.get_xlim()) * 2, y=[me.mean(), me.mean(), me.median(), me.median()], hue=['mean', 'mean', 'median', 'median'], palette='dark')\n",
    "        # sns.lineplot(x=ax.get_xlim(), y=[10000, 10000], color='grey')\n",
    "        ax.set(\n",
    "            title='Workplace Injuries in Singapore (2006 ~ 2018)',\n",
    "            yticklabels=[f'{int(i / 1000)}k' for i in ax.get_yticks()],\n",
    "            xticklabels=['\\'' + (str(i + 6) if i >= 4 else '0' + f'{i + 6}') for i in ax.get_xticks()]\n",
    "        )\n",
    "        plt.savefig('./workplace-injuries.png')"
   ]
  }
 ]
}