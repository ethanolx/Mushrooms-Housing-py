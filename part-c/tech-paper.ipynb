{
 "metadata": {
  "language_info": {
   "codemirror_mode": {
    "name": "ipython",
    "version": 3
   },
   "file_extension": ".py",
   "mimetype": "text/x-python",
   "name": "python",
   "nbconvert_exporter": "python",
   "pygments_lexer": "ipython3",
   "version": "3.8.5"
  },
  "orig_nbformat": 2,
  "kernelspec": {
   "name": "python385jvsc74a57bd0571bacba9a29d47d526870ce679dff83b29c24567c7b1ef6e20c2daefc5a9ce9",
   "display_name": "Python 3.8.5 32-bit"
  }
 },
 "nbformat": 4,
 "nbformat_minor": 2,
 "cells": [
  {
   "cell_type": "code",
   "execution_count": null,
   "metadata": {},
   "outputs": [],
   "source": [
    "# Import Required 3rd-Party Libraries\n",
    "import numpy as np\n",
    "import pandas as pd\n",
    "# import matplotlib.pyplot as plt\n",
    "import seaborn as sns\n",
    "\n",
    "from sklearn.model_selection import train_test_split, GridSearchCV\n",
    "from sklearn.svm import SVC"
   ]
  },
  {
   "cell_type": "code",
   "execution_count": null,
   "metadata": {},
   "outputs": [],
   "source": [
    "data = pd.read_csv(\n",
    "    filepath_or_buffer='./data/workplace-injuries-by-industry-and-incident-types.csv',\n",
    "    header=0\n",
    ")"
   ]
  },
  {
   "cell_type": "code",
   "execution_count": null,
   "metadata": {},
   "outputs": [],
   "source": [
    "data.head()"
   ]
  },
  {
   "cell_type": "code",
   "execution_count": null,
   "metadata": {},
   "outputs": [],
   "source": [
    "data.describe().round(2)"
   ]
  },
  {
   "cell_type": "code",
   "execution_count": null,
   "metadata": {},
   "outputs": [],
   "source": [
    "data.drop(labels=['year', 'no._of_injuries'], axis=1).describe()"
   ]
  },
  {
   "cell_type": "code",
   "execution_count": null,
   "metadata": {},
   "outputs": [],
   "source": [
    "data.info()"
   ]
  },
  {
   "cell_type": "code",
   "execution_count": null,
   "metadata": {},
   "outputs": [],
   "source": [
    "data.rename(mapper={\n",
    "    'year': 'Year',\n",
    "    'degree_of_injury': 'Severity',\n",
    "    'industry': 'Industry',\n",
    "    'sub_industry': 'Sub-Industry',\n",
    "    'incident_type': 'Type of Incident',\n",
    "    'incident_agent': 'Cause of Incident',\n",
    "    'incident_agent_sub_type': 'Specific Cause of Incident',\n",
    "    'no._of_injuries': 'Number of Injuries'\n",
    "}, axis=1, inplace=True)"
   ]
  },
  {
   "cell_type": "code",
   "execution_count": null,
   "metadata": {},
   "outputs": [],
   "source": [
    "sns.lineplot(\n",
    "    data=data.groupby(by='Year').sum(),\n",
    "    x='Year',\n",
    "    y='Number of Injuries'\n",
    ").set_ylim((0, 14000))"
   ]
  },
  {
   "cell_type": "code",
   "execution_count": null,
   "metadata": {},
   "outputs": [],
   "source": [
    "sns.lineplot(\n",
    "    data=data.groupby(by=['Year', 'Severity']).sum(),\n",
    "    x='Year',\n",
    "    y='Number of Injuries',\n",
    "    hue='Severity'\n",
    ")"
   ]
  },
  {
   "cell_type": "code",
   "execution_count": null,
   "metadata": {},
   "outputs": [],
   "source": [
    "sns.lineplot(\n",
    "    data=data[data['Severity'] == 'Fatal'].groupby(by=['Year', 'Severity']).sum(),\n",
    "    x='Year',\n",
    "    y='Number of Injuries',\n",
    "    hue='Severity'\n",
    ").set_ylim((0, 80))"
   ]
  },
  {
   "cell_type": "code",
   "execution_count": null,
   "metadata": {},
   "outputs": [],
   "source": [
    "sns.barplot(\n",
    "    data=data.sort_values(\n",
    "        by='Number of Injuries',\n",
    "        ascending=False).groupby(\n",
    "            by='Industry'\n",
    "        ).sum().reset_index(),\n",
    "    y='Industry',\n",
    "    x='Number of Injuries'\n",
    ")"
   ]
  },
  {
   "cell_type": "code",
   "execution_count": null,
   "metadata": {},
   "outputs": [],
   "source": [
    "sns.barplot(\n",
    "    data=data,\n",
    "    y='Cause of Incident',\n",
    "    x='Number of Injuries'\n",
    ")"
   ]
  },
  {
   "cell_type": "code",
   "execution_count": null,
   "metadata": {},
   "outputs": [],
   "source": [
    "sns.barplot(\n",
    "    data=data,\n",
    "    y='Type of Incident',\n",
    "    x='Number of Injuries'\n",
    ")"
   ]
  },
  {
   "cell_type": "code",
   "execution_count": null,
   "metadata": {},
   "outputs": [],
   "source": [
    "data.drop(\n",
    "    labels=['Sub-Industry', 'Specific Cause of Incident'],\n",
    "    axis=1,\n",
    "    inplace=True\n",
    ")\n",
    "data.head()"
   ]
  },
  {
   "cell_type": "code",
   "execution_count": null,
   "metadata": {},
   "outputs": [],
   "source": [
    "data.groupby(by='Industry').count().max(axis=1).sort_values()"
   ]
  },
  {
   "cell_type": "code",
   "execution_count": null,
   "metadata": {},
   "outputs": [],
   "source": [
    "data['Industry'] = data['Industry'].replace(to_replace={\n",
    "    'Mining & Quarrying': 'Physical Labour',\n",
    "    'Construction': 'Physical Labour',\n",
    "    'Agriculture & Fishing': 'Physical Labour',\n",
    "    'Electricity, Gas and Air-Conditioning Supply': 'Utilities',\n",
    "    'Water Supply, Sewerage & Waste Management': 'Utilities',\n",
    "    'Transportation & Storage': 'Infrastructure',\n",
    "    'Information & Communications': 'Infrastructure',\n",
    "    'Financial & Insurance Services': 'Administrative',\n",
    "    'Administrative & Support Services': 'Administrative',\n",
    "    'Real Estate Activities': 'Business',\n",
    "    'Wholesale & Retail Trade': 'Business'\n",
    "})\n",
    "pd.unique(data['Industry']).size"
   ]
  },
  {
   "cell_type": "code",
   "execution_count": null,
   "metadata": {},
   "outputs": [],
   "source": [
    "data.groupby(by='Cause of Incident').count().max(axis=1).sort_values()"
   ]
  },
  {
   "cell_type": "code",
   "execution_count": null,
   "metadata": {},
   "outputs": [],
   "source": [
    "pd.unique(data['Type of Incident']).size"
   ]
  },
  {
   "cell_type": "code",
   "execution_count": null,
   "metadata": {},
   "outputs": [],
   "source": [
    "data.groupby(by='Type of Incident').count().max(axis=1).sort_values()"
   ]
  },
  {
   "cell_type": "code",
   "execution_count": null,
   "metadata": {},
   "outputs": [],
   "source": [
    "data['Type of Incident'] = data['Type of Incident'].replace(to_replace={\n",
    "    'Oxygen Defiiciency in Confined Space': 'Suffocation/Drowning',\n",
    "    'Suffocation': 'Suffocation/Drowning',\n",
    "    'Drowning': 'Suffocation/Drowning',\n",
    "    'Cave-in of excavation, tunnel, etc': 'Structural Collapse',\n",
    "    'Collapse of formwork/Failure of its supports': 'Structural Collapse',\n",
    "    'Collapse/Failure of Structure & Equipment': 'Structural Collapse',\n",
    "    'Exposure to Electric current': 'Electrocution',\n",
    "    'Struck by Falling Objects from Heights': 'Struck by/against Objects',\n",
    "    'Cut/Stabbed by Objects': 'Struck by/against Objects',\n",
    "    'Struck by Moving Objects': 'Struck by/against Objects',\n",
    "    'Striking against Objects': 'Struck by/against Objects',\n",
    "    'Struck by Falling Objects': 'Struck by/against Objects',\n",
    "    'Stepping on Objects': 'Struck by/against Objects',\n",
    "    'Falls - Falls from Height': 'Falls',\n",
    "    'Falls - Slips, Trips & Falls': 'Falls',\n",
    "    'Exposure to Biological Materials': 'Exposure to Hazardous Substances',\n",
    "    'Crane-related': 'Others'\n",
    "})"
   ]
  },
  {
   "cell_type": "code",
   "execution_count": null,
   "metadata": {},
   "outputs": [],
   "source": [
    "eg = pd.DataFrame(\n",
    "    data=[\n",
    "        ['C', 'John', 87, 90],\n",
    "        ['C', 'Mary', 91, 80],\n",
    "        ['C', 'Joe', 67, 100]\n",
    "    ],\n",
    "    index=[1, 2, 3],\n",
    "    columns=['Class', 'Student Name', 'English Marks', 'Mathematics Marks']\n",
    ")\n",
    "eg"
   ]
  },
  {
   "cell_type": "code",
   "execution_count": null,
   "metadata": {},
   "outputs": [],
   "source": [
    "eg.groupby(by='Class').mean().round(2)"
   ]
  },
  {
   "cell_type": "code",
   "execution_count": null,
   "metadata": {},
   "outputs": [],
   "source": [
    "def get_raw(df: pd.DataFrame):\n",
    "    data_raw = pd.DataFrame(columns=df.columns.values[:-1])\n",
    "    for i, n in enumerate(df['Number of Injuries']):\n",
    "        record = df.iloc[i,:-1]\n",
    "        for _ in range(n):\n",
    "            data_raw = data_raw.append(other=record)\n",
    "    return data_raw\n",
    "# data_raw = get_raw(data)"
   ]
  },
  {
   "cell_type": "code",
   "execution_count": null,
   "metadata": {},
   "outputs": [],
   "source": [
    "data_raw = pd.read_csv('./data/raw.csv', index_col=0)\n",
    "data_raw.head()"
   ]
  },
  {
   "cell_type": "code",
   "execution_count": null,
   "metadata": {},
   "outputs": [],
   "source": [
    "data_encoded = pd.concat(\n",
    "    objs=(\n",
    "        data_raw[['Year', 'Severity']],\n",
    "        pd.get_dummies(data_raw[['Industry', 'Type of Incident', 'Cause of Incident']])\n",
    "    ),\n",
    "    axis=1\n",
    ")\n",
    "\n",
    "data_encoded"
   ]
  },
  {
   "cell_type": "code",
   "execution_count": null,
   "metadata": {},
   "outputs": [],
   "source": [
    "train, test = train_test_split(data_encoded, test_size=0.25, random_state=7)"
   ]
  },
  {
   "cell_type": "code",
   "execution_count": null,
   "metadata": {},
   "outputs": [],
   "source": [
    "train"
   ]
  },
  {
   "cell_type": "code",
   "execution_count": null,
   "metadata": {},
   "outputs": [],
   "source": [
    "X_train = train.drop(labels='Severity', axis=1)\n",
    "y_train = train['Severity']"
   ]
  },
  {
   "cell_type": "code",
   "execution_count": null,
   "metadata": {
    "tags": []
   },
   "outputs": [],
   "source": [
    "# best_algo = GridSearchCV(\n",
    "#     estimator=SVC(),\n",
    "#     param_grid={\n",
    "#             'kernel': ['rbf'],\n",
    "#             'gamma': np.logspace(-10, -5, 3),\n",
    "#             'C': np.logspace(-5, 5, 3)\n",
    "#     },\n",
    "#     cv=3\n",
    "# )"
   ]
  },
  {
   "cell_type": "code",
   "execution_count": null,
   "metadata": {},
   "outputs": [],
   "source": [
    "import pickle\n",
    "best_algo = pickle.load(file=open('best_algo.p', 'rb'))"
   ]
  },
  {
   "cell_type": "code",
   "execution_count": null,
   "metadata": {},
   "outputs": [],
   "source": [
    "best_algo.best_params_"
   ]
  },
  {
   "cell_type": "code",
   "execution_count": null,
   "metadata": {},
   "outputs": [],
   "source": [
    "model = SVC(\n",
    "    kernel='rbf',\n",
    "    C=1e5,\n",
    "    gamma=1e-5\n",
    ")"
   ]
  },
  {
   "cell_type": "code",
   "execution_count": null,
   "metadata": {},
   "outputs": [],
   "source": [
    "model.fit(X=X_train, y=y_train)"
   ]
  },
  {
   "cell_type": "code",
   "execution_count": null,
   "metadata": {},
   "outputs": [],
   "source": [
    "X_test = test.drop(labels='Severity', axis=1)\n",
    "y_test = test['Severity']"
   ]
  },
  {
   "cell_type": "code",
   "execution_count": null,
   "metadata": {},
   "outputs": [],
   "source": [
    "y_pred = model.predict(X=X_test)\n",
    "y_pred"
   ]
  },
  {
   "cell_type": "code",
   "execution_count": null,
   "metadata": {},
   "outputs": [],
   "source": [
    "sns.countplot(x=y_pred, palette='Accent')"
   ]
  },
  {
   "cell_type": "code",
   "execution_count": null,
   "metadata": {},
   "outputs": [],
   "source": [
    "y_pred_s = pd.Series(\n",
    "    data=y_pred,\n",
    "    name='Predicted Injury Outcomes'\n",
    ")\n",
    "y_pred_s.groupby(by=y_pred_s).count()"
   ]
  },
  {
   "cell_type": "code",
   "execution_count": null,
   "metadata": {},
   "outputs": [],
   "source": [
    "y_test[y_pred == 'Fatal']"
   ]
  },
  {
   "cell_type": "code",
   "execution_count": null,
   "metadata": {},
   "outputs": [],
   "source": [
    "fatal_pred = X_test[y_pred == 'Fatal']\n",
    "fatal_mask = fatal_pred != 0\n",
    "fatal_pred = fatal_pred.loc[[True] * 6, np.any(fatal_mask, axis=0).values]\n",
    "fatal_pred.loc[:,fatal_pred.columns.str.contains(pat='(Year)|(Cause)')]"
   ]
  },
  {
   "cell_type": "code",
   "execution_count": null,
   "metadata": {},
   "outputs": [],
   "source": [
    "fatal_pred = X_test[y_pred == 'Major']\n",
    "fatal_mask = fatal_pred != 0\n",
    "fatal_pred = fatal_pred.loc[:, np.any(fatal_mask, axis=0).values]\n",
    "fatal_pred.loc[:,fatal_pred.columns.str.contains(pat='(Year)|(Cause)')]"
   ]
  },
  {
   "cell_type": "code",
   "execution_count": null,
   "metadata": {},
   "outputs": [],
   "source": [
    "from sklearn.metrics import confusion_matrix, classification_report\n",
    "\n",
    "conf_mat = pd.DataFrame(\n",
    "    data = confusion_matrix(y_test, y_pred),\n",
    "    index=['Actual Fatal', 'Actual Major', 'Actual Minor'],\n",
    "    columns=['Predicted', 'Predicted Major', 'Predicted Minor']\n",
    ")\n",
    "\n",
    "print(classification_report(y_test, y_pred), '\\n\\n', conf_mat)"
   ]
  },
  {
   "cell_type": "code",
   "execution_count": null,
   "metadata": {},
   "outputs": [],
   "source": [
    "tot = pd.read_csv('./data/workplace-injuries.csv', header=0)\n",
    "tot.rename({'no._of_workplace_injuries': 'Number of Workplace Injuries'}, axis=1, inplace=True)"
   ]
  },
  {
   "cell_type": "code",
   "execution_count": null,
   "metadata": {},
   "outputs": [],
   "source": [
    "me = tot['Number of Workplace Injuries']"
   ]
  },
  {
   "cell_type": "code",
   "execution_count": null,
   "metadata": {},
   "outputs": [],
   "source": [
    "with sns.axes_style(style='darkgrid'):\n",
    "    with sns.color_palette(palette='turbo'):\n",
    "        toa = tot\n",
    "        toa['_dummy'] = [1] * toa.shape[0]\n",
    "        toa['Year'] = toa['year']\n",
    "        ax = sns.barplot(data=toa, x='Year', y='Number of Workplace Injuries', color='tab:green')\n",
    "        sns.lineplot(x=list(ax.get_xlim()) * 2, y=[me.mean(), me.mean(), me.median(), me.median()], hue=['mean', 'mean', 'median', 'median'], palette='dark')\n",
    "        # sns.lineplot(x=ax.get_xlim(), y=[10000, 10000], color='grey')\n",
    "        ax.set(\n",
    "            title='Workplace Injuries in Singapore (2006 ~ 2018)',\n",
    "            yticklabels=[f'{int(i / 1000)}k' for i in ax.get_yticks()],\n",
    "            xticklabels=['\\'' + (str(i + 6) if i >= 4 else '0' + f'{i + 6}') for i in ax.get_xticks()]\n",
    "        )\n",
    "        plt.savefig('./img/workplace-injuries.png')"
   ]
  }
 ]
}